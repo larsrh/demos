{
 "cells": [
  {
   "cell_type": "code",
   "execution_count": 1,
   "metadata": {
    "collapsed": false
   },
   "outputs": [
    {
     "data": {
      "text/plain": [
       "\u001b[32mimport \u001b[36mjava.util.{SplittableRandom => Random}\u001b[0m\n",
       "\u001b[32mimport \u001b[36mscala.collection.immutable.TreeMap\u001b[0m\n",
       "\u001b[32mimport \u001b[36mscala.annotation.tailrec\u001b[0m"
      ]
     },
     "metadata": {},
     "output_type": "display_data"
    }
   ],
   "source": [
    "import java.util.{SplittableRandom => Random}\n",
    "import scala.collection.immutable.TreeMap\n",
    "import scala.annotation.tailrec"
   ]
  },
  {
   "cell_type": "code",
   "execution_count": 2,
   "metadata": {
    "collapsed": false
   },
   "outputs": [
    {
     "data": {
      "text/plain": [
       "defined \u001b[32mtrait \u001b[36mGenerator\u001b[0m\n",
       "defined \u001b[32mclass \u001b[36mFilteredGenerator\u001b[0m\n",
       "defined \u001b[32mobject \u001b[36mGenerator\u001b[0m"
      ]
     },
     "metadata": {},
     "output_type": "display_data"
    }
   ],
   "source": [
    "trait Generator[T] {\n",
    "    \n",
    "    def generate(size: Int, random: Random): T\n",
    "    \n",
    "    final def filter(predicate: T => Boolean): Generator[T] =\n",
    "        new FilteredGenerator(this, predicate)\n",
    "    \n",
    "    final def sample(maxSize: Int = 10, count: Int = 1): Map[Int, List[T]] = {\n",
    "        val random = new Random()\n",
    "        val samples =\n",
    "            for (size <- 0 to maxSize)\n",
    "            yield size -> List.fill(count)(generate(size, random))\n",
    "        TreeMap(samples: _*)\n",
    "    }\n",
    "    \n",
    "    \n",
    "}\n",
    "\n",
    "final class FilteredGenerator[T](\n",
    "    underlying: Generator[T], predicate: T => Boolean) extends Generator[T] {\n",
    "    \n",
    "    @tailrec def generate(size: Int, random: Random): T = {\n",
    "        val candidate = underlying.generate(size, random)\n",
    "        if (predicate(candidate))\n",
    "            candidate\n",
    "        else\n",
    "            generate(size, random)\n",
    "    }\n",
    "    \n",
    "}\n",
    "\n",
    "object Generator {\n",
    "    \n",
    "    implicit def int: Generator[Int] = new Generator[Int] {\n",
    "        def generate(size: Int, random: Random): Int = {\n",
    "            val min = -size\n",
    "            val max = size + 1\n",
    "            random.nextInt(min, max) // yolo\n",
    "        }\n",
    "    }\n",
    "    \n",
    "    \n",
    "}"
   ]
  },
  {
   "cell_type": "code",
   "execution_count": 3,
   "metadata": {
    "collapsed": false
   },
   "outputs": [
    {
     "data": {
      "text/plain": [
       "\u001b[36mres2\u001b[0m: \u001b[32mMap\u001b[0m[\u001b[32mInt\u001b[0m, \u001b[32mList\u001b[0m[\u001b[32mInt\u001b[0m]] = \u001b[33mMap\u001b[0m(\n",
       "  \u001b[32m0\u001b[0m -> \u001b[33mList\u001b[0m(\u001b[32m0\u001b[0m, \u001b[32m0\u001b[0m, \u001b[32m0\u001b[0m, \u001b[32m0\u001b[0m, \u001b[32m0\u001b[0m, \u001b[32m0\u001b[0m, \u001b[32m0\u001b[0m, \u001b[32m0\u001b[0m, \u001b[32m0\u001b[0m, \u001b[32m0\u001b[0m),\n",
       "  \u001b[32m1\u001b[0m -> \u001b[33mList\u001b[0m(\u001b[32m1\u001b[0m, \u001b[32m1\u001b[0m, \u001b[32m1\u001b[0m, \u001b[32m1\u001b[0m, \u001b[32m1\u001b[0m, \u001b[32m1\u001b[0m, \u001b[32m0\u001b[0m, \u001b[32m1\u001b[0m, \u001b[32m0\u001b[0m, \u001b[32m0\u001b[0m),\n",
       "  \u001b[32m2\u001b[0m -> \u001b[33mList\u001b[0m(\u001b[32m1\u001b[0m, \u001b[32m0\u001b[0m, \u001b[32m2\u001b[0m, \u001b[32m0\u001b[0m, \u001b[32m1\u001b[0m, \u001b[32m1\u001b[0m, \u001b[32m1\u001b[0m, \u001b[32m1\u001b[0m, \u001b[32m0\u001b[0m, \u001b[32m1\u001b[0m),\n",
       "  \u001b[32m3\u001b[0m -> \u001b[33mList\u001b[0m(\u001b[32m2\u001b[0m, \u001b[32m2\u001b[0m, \u001b[32m0\u001b[0m, \u001b[32m3\u001b[0m, \u001b[32m1\u001b[0m, \u001b[32m3\u001b[0m, \u001b[32m0\u001b[0m, \u001b[32m1\u001b[0m, \u001b[32m0\u001b[0m, \u001b[32m2\u001b[0m),\n",
       "  \u001b[32m4\u001b[0m -> \u001b[33mList\u001b[0m(\u001b[32m0\u001b[0m, \u001b[32m1\u001b[0m, \u001b[32m0\u001b[0m, \u001b[32m2\u001b[0m, \u001b[32m1\u001b[0m, \u001b[32m1\u001b[0m, \u001b[32m2\u001b[0m, \u001b[32m4\u001b[0m, \u001b[32m3\u001b[0m, \u001b[32m4\u001b[0m),\n",
       "  \u001b[32m5\u001b[0m -> \u001b[33mList\u001b[0m(\u001b[32m5\u001b[0m, \u001b[32m2\u001b[0m, \u001b[32m3\u001b[0m, \u001b[32m1\u001b[0m, \u001b[32m1\u001b[0m, \u001b[32m4\u001b[0m, \u001b[32m2\u001b[0m, \u001b[32m0\u001b[0m, \u001b[32m2\u001b[0m, \u001b[32m2\u001b[0m),\n",
       "  \u001b[32m6\u001b[0m -> \u001b[33mList\u001b[0m(\u001b[32m2\u001b[0m, \u001b[32m3\u001b[0m, \u001b[32m3\u001b[0m, \u001b[32m0\u001b[0m, \u001b[32m3\u001b[0m, \u001b[32m5\u001b[0m, \u001b[32m1\u001b[0m, \u001b[32m6\u001b[0m, \u001b[32m1\u001b[0m, \u001b[32m4\u001b[0m),\n",
       "  \u001b[32m7\u001b[0m -> \u001b[33mList\u001b[0m(\u001b[32m1\u001b[0m, \u001b[32m1\u001b[0m, \u001b[32m7\u001b[0m, \u001b[32m3\u001b[0m, \u001b[32m1\u001b[0m, \u001b[32m1\u001b[0m, \u001b[32m7\u001b[0m, \u001b[32m2\u001b[0m, \u001b[32m5\u001b[0m, \u001b[32m3\u001b[0m),\n",
       "  \u001b[32m8\u001b[0m -> \u001b[33mList\u001b[0m(\u001b[32m3\u001b[0m, \u001b[32m5\u001b[0m, \u001b[32m5\u001b[0m, \u001b[32m1\u001b[0m, \u001b[32m8\u001b[0m, \u001b[32m7\u001b[0m, \u001b[32m1\u001b[0m, \u001b[32m7\u001b[0m, \u001b[32m2\u001b[0m, \u001b[32m5\u001b[0m),\n",
       "  \u001b[32m9\u001b[0m -> \u001b[33mList\u001b[0m(\u001b[32m3\u001b[0m, \u001b[32m7\u001b[0m, \u001b[32m7\u001b[0m, \u001b[32m6\u001b[0m, \u001b[32m2\u001b[0m, \u001b[32m1\u001b[0m, \u001b[32m2\u001b[0m, \u001b[32m1\u001b[0m, \u001b[32m3\u001b[0m, \u001b[32m3\u001b[0m),\n",
       "  \u001b[32m10\u001b[0m -> \u001b[33mList\u001b[0m(\u001b[32m5\u001b[0m, \u001b[32m3\u001b[0m, \u001b[32m10\u001b[0m, \u001b[32m3\u001b[0m, \u001b[32m3\u001b[0m, \u001b[32m10\u001b[0m, \u001b[32m10\u001b[0m, \u001b[32m9\u001b[0m, \u001b[32m5\u001b[0m, \u001b[32m5\u001b[0m)\n",
       ")"
      ]
     },
     "metadata": {},
     "output_type": "display_data"
    }
   ],
   "source": [
    "Generator.int.filter(_ >= 0).sample(count = 10)"
   ]
  },
  {
   "cell_type": "code",
   "execution_count": 4,
   "metadata": {
    "collapsed": false
   },
   "outputs": [
    {
     "data": {
      "text/plain": [
       "defined \u001b[32mobject \u001b[36mResult\u001b[0m\n",
       "defined \u001b[32mtrait \u001b[36mResult\u001b[0m\n",
       "defined \u001b[32mobject \u001b[36mSuccess\u001b[0m\n",
       "defined \u001b[32mclass \u001b[36mFailure\u001b[0m\n",
       "defined \u001b[32mobject \u001b[36mProperty\u001b[0m\n",
       "defined \u001b[32mtrait \u001b[36mProperty\u001b[0m"
      ]
     },
     "metadata": {},
     "output_type": "display_data"
    }
   ],
   "source": [
    "object Result {\n",
    "    def apply(b: Boolean): Result = b match {\n",
    "        case true => Success\n",
    "        case false => Failure(Nil)\n",
    "    }\n",
    "\n",
    "    def merge(rs: List[Result]): Result =\n",
    "        rs.foldLeft(Success: Result) {\n",
    "            case (Failure(cs), _) => Failure(cs)\n",
    "            case (Success, Success) => Success\n",
    "            case (Success, Failure(cs)) => Failure(cs)\n",
    "        }\n",
    "}\n",
    "\n",
    "sealed trait Result\n",
    "object Success extends Result\n",
    "case class Failure(counterexamples: List[Any] /* yolo */) extends Result\n",
    "\n",
    "object Property {\n",
    "    \n",
    "    implicit def boolean(b: Boolean): Property = new Property {\n",
    "        def run(size: Int, random: Random): Result =\n",
    "            if (b)\n",
    "                Success\n",
    "            else\n",
    "                Failure(Nil)\n",
    "    }\n",
    "    \n",
    "    def forAll[T](prop: T => Property)(implicit generator: Generator[T]): Property =\n",
    "        new Property {\n",
    "            def run(size: Int, random: Random): Result = {\n",
    "                val input = generator.generate(size, random)\n",
    "                val subprop: Property = prop(input)\n",
    "                subprop.run(size, random) match {\n",
    "                    case Success => Success\n",
    "                    case Failure(counterexamples) => Failure(input :: counterexamples)\n",
    "                }\n",
    "            }\n",
    "        }\n",
    "    \n",
    "    \n",
    "}\n",
    "\n",
    "\n",
    "trait Property {\n",
    "    def run(size: Int, random: Random): Result\n",
    "    \n",
    "    final def check: Unit = {\n",
    "        val random = new Random()\n",
    "        val rs = for (size <- 0 to 100) yield run(size, random)\n",
    "        Result.merge(rs.toList) match {\n",
    "            case Success => Console.out.println(\"Property successfully checked\")\n",
    "            case Failure(cs) => Console.err.println(s\"Property failed with counterexample: ${cs.mkString(\"(\", \", \", \")\")}\")\n",
    "        }\n",
    "    }\n",
    "}"
   ]
  },
  {
   "cell_type": "code",
   "execution_count": 5,
   "metadata": {
    "collapsed": false
   },
   "outputs": [
    {
     "name": "stderr",
     "output_type": "stream",
     "text": [
      "Property failed with counterexample: ()\n"
     ]
    },
    {
     "data": {
      "text/plain": []
     },
     "metadata": {},
     "output_type": "display_data"
    }
   ],
   "source": [
    "(false: Property).check"
   ]
  },
  {
   "cell_type": "code",
   "execution_count": 6,
   "metadata": {
    "collapsed": false
   },
   "outputs": [
    {
     "name": "stderr",
     "output_type": "stream",
     "text": [
      "Property failed with counterexample: (0)\n"
     ]
    },
    {
     "data": {
      "text/plain": []
     },
     "metadata": {},
     "output_type": "display_data"
    }
   ],
   "source": [
    "Property.forAll { (x: Int) =>\n",
    "    x != x\n",
    "}.check"
   ]
  },
  {
   "cell_type": "code",
   "execution_count": 7,
   "metadata": {
    "collapsed": false
   },
   "outputs": [
    {
     "name": "stdout",
     "output_type": "stream",
     "text": [
      "Property successfully checked\n"
     ]
    },
    {
     "data": {
      "text/plain": []
     },
     "metadata": {},
     "output_type": "display_data"
    }
   ],
   "source": [
    "Property.forAll { (x: Int) =>\n",
    "    Property.forAll { (y: Int) =>\n",
    "        x + y == y + x\n",
    "    }\n",
    "}.check"
   ]
  }
 ],
 "metadata": {
  "kernelspec": {
   "display_name": "Scala 2.11",
   "language": "scala211",
   "name": "scala211"
  },
  "language_info": {
   "codemirror_mode": "text/x-scala",
   "file_extension": ".scala",
   "mimetype": "text/x-scala",
   "name": "scala211",
   "pygments_lexer": "scala",
   "version": "2.11.7"
  }
 },
 "nbformat": 4,
 "nbformat_minor": 0
}
