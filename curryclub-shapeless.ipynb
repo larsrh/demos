{
 "cells": [
  {
   "cell_type": "code",
   "execution_count": 1,
   "metadata": {
    "collapsed": false
   },
   "outputs": [
    {
     "name": "stdout",
     "output_type": "stream",
     "text": [
      "Adding 2 artifact(s)\n"
     ]
    },
    {
     "data": {
      "text/plain": []
     },
     "metadata": {},
     "output_type": "display_data"
    }
   ],
   "source": [
    "classpath.add(\"com.chuusai\" %% \"shapeless\" % \"2.3.0\")"
   ]
  },
  {
   "cell_type": "code",
   "execution_count": 2,
   "metadata": {
    "collapsed": false
   },
   "outputs": [
    {
     "data": {
      "text/plain": [
       "\u001b[32mimport \u001b[36mshapeless._\u001b[0m\n",
       "\u001b[32mimport \u001b[36mshapeless.poly._\u001b[0m"
      ]
     },
     "metadata": {},
     "output_type": "display_data"
    }
   ],
   "source": [
    "import shapeless._\n",
    "import shapeless.poly._"
   ]
  },
  {
   "cell_type": "markdown",
   "metadata": {},
   "source": [
    "# HLists"
   ]
  },
  {
   "cell_type": "code",
   "execution_count": 26,
   "metadata": {
    "collapsed": false
   },
   "outputs": [
    {
     "data": {
      "text/plain": [
       "\u001b[36mmyFirstHList\u001b[0m: \u001b[32mInt\u001b[0m \u001b[32m::\u001b[0m \u001b[32mString\u001b[0m \u001b[32m::\u001b[0m \u001b[32mList\u001b[0m[\u001b[32mFloat\u001b[0m] \u001b[32m::\u001b[0m \u001b[32mHNil\u001b[0m = 1 :: string :: List(3.0, 3.14) :: HNil"
      ]
     },
     "metadata": {},
     "output_type": "display_data"
    }
   ],
   "source": [
    "val myFirstHList = 1 :: \"string\" :: List(3.0f, 3.14f) :: HNil"
   ]
  },
  {
   "cell_type": "code",
   "execution_count": 4,
   "metadata": {
    "collapsed": false
   },
   "outputs": [
    {
     "data": {
      "text/plain": [
       "defined \u001b[32mobject \u001b[36msize\u001b[0m"
      ]
     },
     "metadata": {},
     "output_type": "display_data"
    }
   ],
   "source": [
    "object size extends Poly1 {\n",
    "    implicit def default[T] = at[T](_ => 1)\n",
    "    implicit def caseString = at[String](_.length)\n",
    "    implicit def caseList[T] = at[List[T]](_.length)\n",
    "}"
   ]
  },
  {
   "cell_type": "code",
   "execution_count": 5,
   "metadata": {
    "collapsed": false,
    "scrolled": true
   },
   "outputs": [
    {
     "data": {
      "text/plain": [
       "\u001b[36msizes\u001b[0m: \u001b[32mInt\u001b[0m \u001b[32m::\u001b[0m \u001b[32mInt\u001b[0m \u001b[32m::\u001b[0m \u001b[32mInt\u001b[0m \u001b[32m::\u001b[0m \u001b[32mHNil\u001b[0m = 1 :: 6 :: 2 :: HNil"
      ]
     },
     "metadata": {},
     "output_type": "display_data"
    }
   ],
   "source": [
    "val sizes = myFirstHList.map(size)"
   ]
  },
  {
   "cell_type": "code",
   "execution_count": 6,
   "metadata": {
    "collapsed": false
   },
   "outputs": [
    {
     "data": {
      "text/plain": [
       "\u001b[36mres5\u001b[0m: \u001b[32mList\u001b[0m[\u001b[32mInt\u001b[0m] = \u001b[33mList\u001b[0m(\u001b[32m1\u001b[0m, \u001b[32m6\u001b[0m, \u001b[32m2\u001b[0m)"
      ]
     },
     "metadata": {},
     "output_type": "display_data"
    }
   ],
   "source": [
    "sizes.toList"
   ]
  },
  {
   "cell_type": "code",
   "execution_count": 7,
   "metadata": {
    "collapsed": false
   },
   "outputs": [
    {
     "data": {
      "text/plain": [
       "\u001b[36mres6\u001b[0m: (\u001b[32mInt\u001b[0m, \u001b[32mInt\u001b[0m) \u001b[32m::\u001b[0m (\u001b[32mString\u001b[0m, \u001b[32mInt\u001b[0m) \u001b[32m::\u001b[0m (\u001b[32mList\u001b[0m[\u001b[32mFloat\u001b[0m], \u001b[32mInt\u001b[0m) \u001b[32m::\u001b[0m \u001b[32mHNil\u001b[0m = (2,1) :: (string,6) :: (List(3.0, 3.14),2) :: HNil"
      ]
     },
     "metadata": {},
     "output_type": "display_data"
    }
   ],
   "source": [
    "myFirstHList zip sizes"
   ]
  },
  {
   "cell_type": "markdown",
   "metadata": {},
   "source": [
    "## Case classes"
   ]
  },
  {
   "cell_type": "code",
   "execution_count": 8,
   "metadata": {
    "collapsed": false
   },
   "outputs": [
    {
     "data": {
      "text/plain": [
       "defined \u001b[32mclass \u001b[36mMyLittleCaseClass\u001b[0m"
      ]
     },
     "metadata": {},
     "output_type": "display_data"
    }
   ],
   "source": [
    "case class MyLittleCaseClass(x: Int, y: String, z: Float)"
   ]
  },
  {
   "cell_type": "code",
   "execution_count": 9,
   "metadata": {
    "collapsed": false
   },
   "outputs": [
    {
     "data": {
      "text/plain": [
       "\u001b[36mmyFirstValue\u001b[0m: \u001b[32mMyLittleCaseClass\u001b[0m = \u001b[33mMyLittleCaseClass\u001b[0m(\u001b[32m1\u001b[0m, \u001b[32m\"string\"\u001b[0m, \u001b[32m3.0F\u001b[0m)"
      ]
     },
     "metadata": {},
     "output_type": "display_data"
    }
   ],
   "source": [
    "val myFirstValue = MyLittleCaseClass(1, \"string\", 3.0f)"
   ]
  },
  {
   "cell_type": "code",
   "execution_count": 10,
   "metadata": {
    "collapsed": false
   },
   "outputs": [
    {
     "data": {
      "text/plain": [
       "\u001b[32mimport \u001b[36mshapeless.syntax.std.product._\u001b[0m\n",
       "\u001b[36mres9_1\u001b[0m: \u001b[32mInt\u001b[0m \u001b[32m::\u001b[0m \u001b[32mString\u001b[0m \u001b[32m::\u001b[0m \u001b[32mFloat\u001b[0m \u001b[32m::\u001b[0m \u001b[32mHNil\u001b[0m = 1 :: string :: 3.0 :: HNil"
      ]
     },
     "metadata": {},
     "output_type": "display_data"
    }
   ],
   "source": [
    "import shapeless.syntax.std.product._\n",
    "myFirstValue.toHList"
   ]
  },
  {
   "cell_type": "markdown",
   "metadata": {},
   "source": [
    "## Generic programming"
   ]
  },
  {
   "cell_type": "code",
   "execution_count": 11,
   "metadata": {
    "collapsed": false
   },
   "outputs": [
    {
     "data": {
      "text/plain": [
       "\u001b[36mgen\u001b[0m: \u001b[32mGeneric\u001b[0m[\u001b[32mMyLittleCaseClass\u001b[0m]{type Repr = shapeless.::[Int,shapeless.::[String,shapeless.::[Float,shapeless.HNil]]]} = cmd10$$user$$anonfun$1$anon$macro$179$1@7e51348f"
      ]
     },
     "metadata": {},
     "output_type": "display_data"
    }
   ],
   "source": [
    "val gen = Generic[MyLittleCaseClass]"
   ]
  },
  {
   "cell_type": "code",
   "execution_count": 12,
   "metadata": {
    "collapsed": false
   },
   "outputs": [
    {
     "data": {
      "text/plain": [
       "\u001b[36masHList\u001b[0m: \u001b[32mgen\u001b[0m.\u001b[32mRepr\u001b[0m = 1 :: string :: 3.0 :: HNil"
      ]
     },
     "metadata": {},
     "output_type": "display_data"
    }
   ],
   "source": [
    "val asHList = gen.to(myFirstValue)"
   ]
  },
  {
   "cell_type": "code",
   "execution_count": 13,
   "metadata": {
    "collapsed": false
   },
   "outputs": [
    {
     "data": {
      "text/plain": [
       "\u001b[36mandBack\u001b[0m: \u001b[32mMyLittleCaseClass\u001b[0m = \u001b[33mMyLittleCaseClass\u001b[0m(\u001b[32m1\u001b[0m, \u001b[32m\"string\"\u001b[0m, \u001b[32m3.0F\u001b[0m)"
      ]
     },
     "metadata": {},
     "output_type": "display_data"
    }
   ],
   "source": [
    "val andBack = gen.from(asHList)"
   ]
  },
  {
   "cell_type": "markdown",
   "metadata": {},
   "source": [
    "# Optics"
   ]
  },
  {
   "cell_type": "code",
   "execution_count": 14,
   "metadata": {
    "collapsed": false
   },
   "outputs": [
    {
     "data": {
      "text/plain": [
       "\u001b[36mxLens\u001b[0m: \u001b[32mLens\u001b[0m[\u001b[32mMyLittleCaseClass\u001b[0m, \u001b[32mInt\u001b[0m] = shapeless.Lens$$anon$7@6f39f382"
      ]
     },
     "metadata": {},
     "output_type": "display_data"
    }
   ],
   "source": [
    "val xLens = lens[MyLittleCaseClass].x"
   ]
  },
  {
   "cell_type": "code",
   "execution_count": 15,
   "metadata": {
    "collapsed": false
   },
   "outputs": [
    {
     "data": {
      "text/plain": [
       "\u001b[36mres14\u001b[0m: \u001b[32mInt\u001b[0m = \u001b[32m1\u001b[0m"
      ]
     },
     "metadata": {},
     "output_type": "display_data"
    }
   ],
   "source": [
    "xLens.get(myFirstValue)"
   ]
  },
  {
   "cell_type": "code",
   "execution_count": 16,
   "metadata": {
    "collapsed": false
   },
   "outputs": [
    {
     "data": {
      "text/plain": [
       "\u001b[36mres15\u001b[0m: \u001b[32mMyLittleCaseClass\u001b[0m = \u001b[33mMyLittleCaseClass\u001b[0m(\u001b[32m2\u001b[0m, \u001b[32m\"string\"\u001b[0m, \u001b[32m3.0F\u001b[0m)"
      ]
     },
     "metadata": {},
     "output_type": "display_data"
    }
   ],
   "source": [
    "xLens.modify(myFirstValue)(_ + 1)"
   ]
  },
  {
   "cell_type": "code",
   "execution_count": 17,
   "metadata": {
    "collapsed": false
   },
   "outputs": [
    {
     "data": {
      "text/plain": [
       "\u001b[36mheadPrism\u001b[0m: \u001b[32mPrism\u001b[0m[\u001b[32mList\u001b[0m[\u001b[32mInt\u001b[0m], \u001b[32mInt\u001b[0m] = shapeless.Prism$$anon$10@60d3eb72"
      ]
     },
     "metadata": {},
     "output_type": "display_data"
    }
   ],
   "source": [
    "val headPrism = prism[List[Int]].head"
   ]
  },
  {
   "cell_type": "code",
   "execution_count": 18,
   "metadata": {
    "collapsed": false
   },
   "outputs": [
    {
     "data": {
      "text/plain": [
       "\u001b[36mres17\u001b[0m: \u001b[32mOption\u001b[0m[\u001b[32mInt\u001b[0m] = \u001b[33mSome\u001b[0m(\u001b[32m1\u001b[0m)"
      ]
     },
     "metadata": {},
     "output_type": "display_data"
    }
   ],
   "source": [
    "headPrism.get(List(1, 2))"
   ]
  },
  {
   "cell_type": "code",
   "execution_count": 19,
   "metadata": {
    "collapsed": false
   },
   "outputs": [
    {
     "data": {
      "text/plain": [
       "\u001b[36mres18\u001b[0m: \u001b[32mOption\u001b[0m[\u001b[32mInt\u001b[0m] = None"
      ]
     },
     "metadata": {},
     "output_type": "display_data"
    }
   ],
   "source": [
    "headPrism.get(Nil)"
   ]
  },
  {
   "cell_type": "code",
   "execution_count": 20,
   "metadata": {
    "collapsed": false
   },
   "outputs": [
    {
     "data": {
      "text/plain": [
       "\u001b[36mres19\u001b[0m: \u001b[32mList\u001b[0m[\u001b[32mInt\u001b[0m] = \u001b[33mList\u001b[0m(\u001b[32m2\u001b[0m, \u001b[32m2\u001b[0m)"
      ]
     },
     "metadata": {},
     "output_type": "display_data"
    }
   ],
   "source": [
    "headPrism.modify(List(1, 2))(_ + 1)"
   ]
  },
  {
   "cell_type": "code",
   "execution_count": 21,
   "metadata": {
    "collapsed": false
   },
   "outputs": [
    {
     "data": {
      "text/plain": [
       "\u001b[36mres20\u001b[0m: \u001b[32mList\u001b[0m[\u001b[32mInt\u001b[0m] = \u001b[33mList\u001b[0m()"
      ]
     },
     "metadata": {},
     "output_type": "display_data"
    }
   ],
   "source": [
    "headPrism.modify(Nil)(_ + 1)"
   ]
  },
  {
   "cell_type": "markdown",
   "metadata": {},
   "source": [
    "# Type Class Derivation"
   ]
  },
  {
   "cell_type": "code",
   "execution_count": 22,
   "metadata": {
    "collapsed": false
   },
   "outputs": [
    {
     "data": {
      "text/plain": [
       "defined \u001b[32mtrait \u001b[36mMonoid\u001b[0m\n",
       "defined \u001b[32mobject \u001b[36mMonoid\u001b[0m"
      ]
     },
     "metadata": {},
     "output_type": "display_data"
    }
   ],
   "source": [
    "trait Monoid[T] {\n",
    "    def zero: T\n",
    "    def append(a: T, b: T): T\n",
    "}\n",
    "\n",
    "\n",
    "object Monoid extends ProductTypeClassCompanion[Monoid] {\n",
    "    implicit def intMonoid: Monoid[Int] = new Monoid[Int] {\n",
    "        def zero = 0\n",
    "        def append(a: Int, b: Int) = a+b\n",
    "    }\n",
    "\n",
    "    implicit def stringMonoid: Monoid[String] = new Monoid[String] {\n",
    "        def zero = \"\"\n",
    "        def append(a: String, b: String) = a+b\n",
    "    }\n",
    "\n",
    "    object typeClass extends ProductTypeClass[Monoid] {\n",
    "        def emptyProduct = new Monoid[HNil] {\n",
    "            def zero = HNil\n",
    "            def append(a: HNil, b: HNil) = HNil\n",
    "        }\n",
    "\n",
    "        def product[F, T <: HList](mh: Monoid[F], mt: Monoid[T]) = new Monoid[F :: T] {\n",
    "            def zero = mh.zero :: mt.zero\n",
    "            def append(a: F :: T, b: F :: T) = mh.append(a.head, b.head) :: mt.append(a.tail, b.tail)\n",
    "        }\n",
    "\n",
    "        def project[F, G](instance: => Monoid[G], to: F => G, from: G => F) = new Monoid[F] {\n",
    "            def zero = from(instance.zero)\n",
    "            def append(a: F, b: F) = from(instance.append(to(a), to(b)))\n",
    "        }\n",
    "    }\n",
    "}"
   ]
  },
  {
   "cell_type": "code",
   "execution_count": 23,
   "metadata": {
    "collapsed": false
   },
   "outputs": [
    {
     "data": {
      "text/plain": [
       "defined \u001b[32mclass \u001b[36mVector2\u001b[0m\n",
       "defined \u001b[32mobject \u001b[36mVector2\u001b[0m"
      ]
     },
     "metadata": {},
     "output_type": "display_data"
    }
   ],
   "source": [
    "case class Vector2(x: Int, y: Int)\n",
    "object Vector2 {\n",
    "    def instance: Monoid[Vector2] = implicitly\n",
    "}"
   ]
  },
  {
   "cell_type": "code",
   "execution_count": 24,
   "metadata": {
    "collapsed": false
   },
   "outputs": [
    {
     "data": {
      "text/plain": [
       "\u001b[36mres23\u001b[0m: \u001b[32mVector2\u001b[0m = \u001b[33mVector2\u001b[0m(\u001b[32m0\u001b[0m, \u001b[32m0\u001b[0m)"
      ]
     },
     "metadata": {},
     "output_type": "display_data"
    }
   ],
   "source": [
    "Vector2.instance.zero"
   ]
  },
  {
   "cell_type": "code",
   "execution_count": 25,
   "metadata": {
    "collapsed": false
   },
   "outputs": [
    {
     "data": {
      "text/plain": [
       "\u001b[36mres24\u001b[0m: \u001b[32mVector2\u001b[0m = \u001b[33mVector2\u001b[0m(\u001b[32m2\u001b[0m, \u001b[32m3\u001b[0m)"
      ]
     },
     "metadata": {},
     "output_type": "display_data"
    }
   ],
   "source": [
    "Vector2.instance.append(Vector2(1, 1), Vector2(1, 2))"
   ]
  }
 ],
 "metadata": {
  "kernelspec": {
   "display_name": "Scala 2.11",
   "language": "scala211",
   "name": "scala211"
  },
  "language_info": {
   "codemirror_mode": "text/x-scala",
   "file_extension": ".scala",
   "mimetype": "text/x-scala",
   "name": "scala211",
   "pygments_lexer": "scala",
   "version": "2.11.7"
  }
 },
 "nbformat": 4,
 "nbformat_minor": 0
}
