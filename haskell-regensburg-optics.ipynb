{
 "cells": [
  {
   "cell_type": "code",
   "execution_count": 1,
   "metadata": {
    "collapsed": false
   },
   "outputs": [],
   "source": [
    "data Address =\n",
    "    Address {\n",
    "        street :: String,\n",
    "        number :: Int,\n",
    "        city :: String,\n",
    "        zipcode :: String\n",
    "    }\n",
    "    deriving Show"
   ]
  },
  {
   "cell_type": "code",
   "execution_count": 2,
   "metadata": {
    "collapsed": true
   },
   "outputs": [],
   "source": [
    "address1 = Address \"Hinter der Grieb\" 10 \"Regensburg\" \"93047\""
   ]
  },
  {
   "cell_type": "code",
   "execution_count": 3,
   "metadata": {
    "collapsed": false
   },
   "outputs": [
    {
     "data": {
      "text/plain": [
       "Address {street = \"Hinter der Grieb\", number = 10, city = \"Regensburg\", zipcode = \"93047\"}"
      ]
     },
     "metadata": {},
     "output_type": "display_data"
    }
   ],
   "source": [
    "address1"
   ]
  },
  {
   "cell_type": "code",
   "execution_count": 4,
   "metadata": {
    "collapsed": false
   },
   "outputs": [
    {
     "data": {
      "text/plain": [
       "Address {street = \"Hinter der Grieb\", number = 11, city = \"Regensburg\", zipcode = \"93047\"}"
      ]
     },
     "metadata": {},
     "output_type": "display_data"
    }
   ],
   "source": [
    "address1 { number = number address1 + 1 }"
   ]
  },
  {
   "cell_type": "code",
   "execution_count": 5,
   "metadata": {
    "collapsed": true
   },
   "outputs": [],
   "source": [
    "data Status = Employee Int | Intern deriving Show\n",
    "\n",
    "data Person =\n",
    "    Person {\n",
    "        name :: String,\n",
    "        status :: Status,\n",
    "        address :: Address\n",
    "    }\n",
    "    deriving Show"
   ]
  },
  {
   "cell_type": "code",
   "execution_count": 28,
   "metadata": {
    "collapsed": false
   },
   "outputs": [],
   "source": [
    "person1 = Person \"Herr Gravenreuth\" (Employee 100) address1"
   ]
  },
  {
   "cell_type": "code",
   "execution_count": 29,
   "metadata": {
    "collapsed": false
   },
   "outputs": [
    {
     "data": {
      "text/plain": [
       "Person {name = \"Herr Gravenreuth\", status = Employee 100, address = Address {street = \"Hinter der Grieb\", number = 10, city = \"Regensburg\", zipcode = \"93047\"}}"
      ]
     },
     "metadata": {},
     "output_type": "display_data"
    }
   ],
   "source": [
    "person1"
   ]
  },
  {
   "cell_type": "code",
   "execution_count": 30,
   "metadata": {
    "collapsed": false
   },
   "outputs": [
    {
     "data": {
      "text/plain": [
       "Person {name = \"Herr Gravenreuth\", status = Employee 100, address = Address {street = \"Hinter der Grieb\", number = 11, city = \"Regensburg\", zipcode = \"93047\"}}"
      ]
     },
     "metadata": {},
     "output_type": "display_data"
    }
   ],
   "source": [
    "person1 {\n",
    "        address = (address person1) {\n",
    "            number = number (address person1) + 1\n",
    "        }\n",
    "    }"
   ]
  },
  {
   "cell_type": "code",
   "execution_count": 31,
   "metadata": {
    "collapsed": false
   },
   "outputs": [],
   "source": [
    "data Lens s a =\n",
    "    Lens {\n",
    "        lget :: s -> a,\n",
    "        lset :: a -> s -> s\n",
    "    }\n",
    "\n",
    "lmodify :: Lens s a -> (a -> a) -> (s -> s)\n",
    "lmodify (Lens get set) f s = set (f (get s)) s"
   ]
  },
  {
   "cell_type": "code",
   "execution_count": 32,
   "metadata": {
    "collapsed": false
   },
   "outputs": [],
   "source": [
    "personAddress :: Lens Person Address\n",
    "personAddress = Lens {\n",
    "        lget = address,\n",
    "        lset = \\a p -> p { address = a }\n",
    "    }\n",
    "    \n",
    "personName :: Lens Person String\n",
    "personName = Lens {\n",
    "        lget = name,\n",
    "        lset = \\n p -> p { name = n }\n",
    "    }\n",
    "    \n",
    "personStatus :: Lens Person Status\n",
    "personStatus = Lens {\n",
    "        lget = status,\n",
    "        lset = \\n p -> p { status = n }\n",
    "    }\n",
    "    \n",
    "    \n",
    "addressNumber :: Lens Address Int\n",
    "addressNumber = Lens {\n",
    "        lget = number,\n",
    "        lset = \\n a -> a { number = n }\n",
    "    }"
   ]
  },
  {
   "cell_type": "code",
   "execution_count": 33,
   "metadata": {
    "collapsed": false
   },
   "outputs": [
    {
     "data": {
      "text/plain": [
       "Person {name = \"HERR GRAVENREUTH\", status = Employee 100, address = Address {street = \"Hinter der Grieb\", number = 10, city = \"Regensburg\", zipcode = \"93047\"}}"
      ]
     },
     "metadata": {},
     "output_type": "display_data"
    }
   ],
   "source": [
    "import Data.Char\n",
    "lmodify personName (map toUpper) person1"
   ]
  },
  {
   "cell_type": "code",
   "execution_count": 34,
   "metadata": {
    "collapsed": false
   },
   "outputs": [],
   "source": [
    "lcompose :: Lens s a -> Lens a b -> Lens s b\n",
    "lcompose (Lens get1 set1) (Lens get2 set2) = Lens {\n",
    "        lget = get2 . get1,\n",
    "        lset = \\b s ->\n",
    "                    let\n",
    "                        a = get1 s\n",
    "                        a' = set2 b a\n",
    "                        s' = set1 a' s\n",
    "                    in s'\n",
    "    }"
   ]
  },
  {
   "cell_type": "code",
   "execution_count": 35,
   "metadata": {
    "collapsed": false
   },
   "outputs": [],
   "source": [
    "personAddressNumber = personAddress `lcompose` addressNumber"
   ]
  },
  {
   "cell_type": "code",
   "execution_count": 36,
   "metadata": {
    "collapsed": false
   },
   "outputs": [
    {
     "data": {
      "text/plain": [
       "10"
      ]
     },
     "metadata": {},
     "output_type": "display_data"
    }
   ],
   "source": [
    "lget personAddressNumber person1"
   ]
  },
  {
   "cell_type": "code",
   "execution_count": 37,
   "metadata": {
    "collapsed": false
   },
   "outputs": [
    {
     "data": {
      "text/plain": [
       "Person {name = \"Herr Gravenreuth\", status = Employee 100, address = Address {street = \"Hinter der Grieb\", number = 11, city = \"Regensburg\", zipcode = \"93047\"}}"
      ]
     },
     "metadata": {},
     "output_type": "display_data"
    }
   ],
   "source": [
    "lmodify personAddressNumber (+1) person1"
   ]
  },
  {
   "cell_type": "code",
   "execution_count": 38,
   "metadata": {
    "collapsed": true
   },
   "outputs": [],
   "source": [
    "data Prism s a = Prism {\n",
    "        pget :: s -> Maybe a,\n",
    "        pback :: a -> s\n",
    "    }"
   ]
  },
  {
   "cell_type": "code",
   "execution_count": 39,
   "metadata": {
    "collapsed": false
   },
   "outputs": [],
   "source": [
    "statusEmployee :: Prism Status Int\n",
    "statusEmployee = Prism {\n",
    "        pget = \\s -> do Employee salary <- Just s; return salary,\n",
    "        pback = Employee\n",
    "    }"
   ]
  },
  {
   "cell_type": "code",
   "execution_count": 40,
   "metadata": {
    "collapsed": false
   },
   "outputs": [
    {
     "data": {
      "text/plain": [
       "Just 100"
      ]
     },
     "metadata": {},
     "output_type": "display_data"
    },
    {
     "data": {
      "text/plain": [
       "Nothing"
      ]
     },
     "metadata": {},
     "output_type": "display_data"
    },
    {
     "data": {
      "text/plain": [
       "Employee 10"
      ]
     },
     "metadata": {},
     "output_type": "display_data"
    }
   ],
   "source": [
    "pget statusEmployee (Employee 100)\n",
    "pget statusEmployee Intern\n",
    "pback statusEmployee 10"
   ]
  },
  {
   "cell_type": "code",
   "execution_count": 41,
   "metadata": {
    "collapsed": false
   },
   "outputs": [],
   "source": [
    "import Control.Monad ((>=>))\n",
    "pcompose :: Prism s a -> Prism a b -> Prism s b\n",
    "pcompose (Prism get1 back1) (Prism get2 back2) = Prism {\n",
    "        pget = get1 >=> get2,\n",
    "        pback = back1 . back2\n",
    "    }"
   ]
  },
  {
   "cell_type": "code",
   "execution_count": 42,
   "metadata": {
    "collapsed": true
   },
   "outputs": [],
   "source": [
    "data Optional s a = Optional {\n",
    "        oget :: s -> Maybe a,\n",
    "        oset :: a -> s -> s\n",
    "    }"
   ]
  },
  {
   "cell_type": "code",
   "execution_count": 43,
   "metadata": {
    "collapsed": false
   },
   "outputs": [],
   "source": [
    "prismToOptional :: Prism s a -> Optional s a\n",
    "prismToOptional (Prism pget pback) = Optional {\n",
    "        oget = pget,\n",
    "        oset = const . pback\n",
    "    }"
   ]
  },
  {
   "cell_type": "code",
   "execution_count": 44,
   "metadata": {
    "collapsed": false
   },
   "outputs": [],
   "source": [
    "lensToOptional :: Lens s a -> Optional s a\n",
    "lensToOptional (Lens lget lset) = Optional {\n",
    "        oget = Just . lget,\n",
    "        oset = lset\n",
    "    }"
   ]
  },
  {
   "cell_type": "code",
   "execution_count": 45,
   "metadata": {
    "collapsed": false
   },
   "outputs": [],
   "source": [
    "ocompose :: Optional s a -> Optional a b -> Optional s b\n",
    "ocompose (Optional get1 set1) (Optional get2 set2) = Optional {\n",
    "        oget = get1 >=> get2,\n",
    "        oset = \\b s -> case get1 s of\n",
    "                            Nothing -> s\n",
    "                            Just a -> set1 (set2 b a) s\n",
    "    }"
   ]
  },
  {
   "cell_type": "code",
   "execution_count": 46,
   "metadata": {
    "collapsed": false
   },
   "outputs": [
    {
     "data": {
      "text/html": [
       "<style>/* Styles used for the Hoogle display in the pager */\n",
       ".hoogle-doc {\n",
       "display: block;\n",
       "padding-bottom: 1.3em;\n",
       "padding-left: 0.4em;\n",
       "}\n",
       ".hoogle-code {\n",
       "display: block;\n",
       "font-family: monospace;\n",
       "white-space: pre;\n",
       "}\n",
       ".hoogle-text {\n",
       "display: block;\n",
       "}\n",
       ".hoogle-name {\n",
       "color: green;\n",
       "font-weight: bold;\n",
       "}\n",
       ".hoogle-head {\n",
       "font-weight: bold;\n",
       "}\n",
       ".hoogle-sub {\n",
       "display: block;\n",
       "margin-left: 0.4em;\n",
       "}\n",
       ".hoogle-package {\n",
       "font-weight: bold;\n",
       "font-style: italic;\n",
       "}\n",
       ".hoogle-module {\n",
       "font-weight: bold;\n",
       "}\n",
       ".hoogle-class {\n",
       "font-weight: bold;\n",
       "}\n",
       ".get-type {\n",
       "color: green;\n",
       "font-weight: bold;\n",
       "font-family: monospace;\n",
       "display: block;\n",
       "white-space: pre-wrap;\n",
       "}\n",
       ".show-type {\n",
       "color: green;\n",
       "font-weight: bold;\n",
       "font-family: monospace;\n",
       "margin-left: 1em;\n",
       "}\n",
       ".mono {\n",
       "font-family: monospace;\n",
       "display: block;\n",
       "}\n",
       ".err-msg {\n",
       "color: red;\n",
       "font-style: italic;\n",
       "font-family: monospace;\n",
       "white-space: pre;\n",
       "display: block;\n",
       "}\n",
       "#unshowable {\n",
       "color: red;\n",
       "font-weight: bold;\n",
       "}\n",
       ".err-msg.in.collapse {\n",
       "padding-top: 0.7em;\n",
       "}\n",
       ".highlight-code {\n",
       "white-space: pre;\n",
       "font-family: monospace;\n",
       "}\n",
       ".suggestion-warning { \n",
       "font-weight: bold;\n",
       "color: rgb(200, 130, 0);\n",
       "}\n",
       ".suggestion-error { \n",
       "font-weight: bold;\n",
       "color: red;\n",
       "}\n",
       ".suggestion-name {\n",
       "font-weight: bold;\n",
       "}\n",
       "</style><span class='get-type'>lensToOptional personStatus :: Optional Person Status</span>"
      ],
      "text/plain": [
       "lensToOptional personStatus :: Optional Person Status"
      ]
     },
     "metadata": {},
     "output_type": "display_data"
    }
   ],
   "source": [
    ":t lensToOptional personStatus"
   ]
  },
  {
   "cell_type": "code",
   "execution_count": 47,
   "metadata": {
    "collapsed": false
   },
   "outputs": [
    {
     "data": {
      "text/html": [
       "<style>/* Styles used for the Hoogle display in the pager */\n",
       ".hoogle-doc {\n",
       "display: block;\n",
       "padding-bottom: 1.3em;\n",
       "padding-left: 0.4em;\n",
       "}\n",
       ".hoogle-code {\n",
       "display: block;\n",
       "font-family: monospace;\n",
       "white-space: pre;\n",
       "}\n",
       ".hoogle-text {\n",
       "display: block;\n",
       "}\n",
       ".hoogle-name {\n",
       "color: green;\n",
       "font-weight: bold;\n",
       "}\n",
       ".hoogle-head {\n",
       "font-weight: bold;\n",
       "}\n",
       ".hoogle-sub {\n",
       "display: block;\n",
       "margin-left: 0.4em;\n",
       "}\n",
       ".hoogle-package {\n",
       "font-weight: bold;\n",
       "font-style: italic;\n",
       "}\n",
       ".hoogle-module {\n",
       "font-weight: bold;\n",
       "}\n",
       ".hoogle-class {\n",
       "font-weight: bold;\n",
       "}\n",
       ".get-type {\n",
       "color: green;\n",
       "font-weight: bold;\n",
       "font-family: monospace;\n",
       "display: block;\n",
       "white-space: pre-wrap;\n",
       "}\n",
       ".show-type {\n",
       "color: green;\n",
       "font-weight: bold;\n",
       "font-family: monospace;\n",
       "margin-left: 1em;\n",
       "}\n",
       ".mono {\n",
       "font-family: monospace;\n",
       "display: block;\n",
       "}\n",
       ".err-msg {\n",
       "color: red;\n",
       "font-style: italic;\n",
       "font-family: monospace;\n",
       "white-space: pre;\n",
       "display: block;\n",
       "}\n",
       "#unshowable {\n",
       "color: red;\n",
       "font-weight: bold;\n",
       "}\n",
       ".err-msg.in.collapse {\n",
       "padding-top: 0.7em;\n",
       "}\n",
       ".highlight-code {\n",
       "white-space: pre;\n",
       "font-family: monospace;\n",
       "}\n",
       ".suggestion-warning { \n",
       "font-weight: bold;\n",
       "color: rgb(200, 130, 0);\n",
       "}\n",
       ".suggestion-error { \n",
       "font-weight: bold;\n",
       "color: red;\n",
       "}\n",
       ".suggestion-name {\n",
       "font-weight: bold;\n",
       "}\n",
       "</style><span class='get-type'>prismToOptional statusEmployee :: Optional Status Int</span>"
      ],
      "text/plain": [
       "prismToOptional statusEmployee :: Optional Status Int"
      ]
     },
     "metadata": {},
     "output_type": "display_data"
    }
   ],
   "source": [
    ":t prismToOptional statusEmployee"
   ]
  },
  {
   "cell_type": "code",
   "execution_count": 49,
   "metadata": {
    "collapsed": false
   },
   "outputs": [],
   "source": [
    "personEmployee = lensToOptional personStatus `ocompose` prismToOptional statusEmployee"
   ]
  },
  {
   "cell_type": "code",
   "execution_count": 52,
   "metadata": {
    "collapsed": false
   },
   "outputs": [
    {
     "data": {
      "text/plain": [
       "Just 100"
      ]
     },
     "metadata": {},
     "output_type": "display_data"
    },
    {
     "data": {
      "text/plain": [
       "Person {name = \"Herr Gravenreuth\", status = Employee 200, address = Address {street = \"Hinter der Grieb\", number = 10, city = \"Regensburg\", zipcode = \"93047\"}}"
      ]
     },
     "metadata": {},
     "output_type": "display_data"
    }
   ],
   "source": [
    "oget personEmployee person1\n",
    "oset personEmployee 200 person1"
   ]
  },
  {
   "cell_type": "code",
   "execution_count": 53,
   "metadata": {
    "collapsed": true
   },
   "outputs": [],
   "source": [
    "person2 = lset personStatus Intern person1"
   ]
  },
  {
   "cell_type": "code",
   "execution_count": 54,
   "metadata": {
    "collapsed": false
   },
   "outputs": [
    {
     "data": {
      "text/plain": [
       "Person {name = \"Herr Gravenreuth\", status = Intern, address = Address {street = \"Hinter der Grieb\", number = 10, city = \"Regensburg\", zipcode = \"93047\"}}"
      ]
     },
     "metadata": {},
     "output_type": "display_data"
    }
   ],
   "source": [
    "person2"
   ]
  },
  {
   "cell_type": "code",
   "execution_count": 56,
   "metadata": {
    "collapsed": false
   },
   "outputs": [
    {
     "data": {
      "text/plain": [
       "Nothing"
      ]
     },
     "metadata": {},
     "output_type": "display_data"
    },
    {
     "data": {
      "text/plain": [
       "Person {name = \"Herr Gravenreuth\", status = Employee 200, address = Address {street = \"Hinter der Grieb\", number = 10, city = \"Regensburg\", zipcode = \"93047\"}}"
      ]
     },
     "metadata": {},
     "output_type": "display_data"
    }
   ],
   "source": [
    "oget personEmployee person2\n",
    "oset personEmployee 200 person2"
   ]
  },
  {
   "cell_type": "code",
   "execution_count": 58,
   "metadata": {
    "collapsed": true
   },
   "outputs": [],
   "source": [
    "fstLens :: Lens (a, b) a\n",
    "fstLens = Lens { lget = fst, lset = \\a' (a, b) -> (a', b) }\n",
    "sndLens :: Lens (a, b) b\n",
    "sndLens = Lens { lget = snd, lset = \\b' (a, b) -> (a, b') }"
   ]
  },
  {
   "cell_type": "code",
   "execution_count": 60,
   "metadata": {
    "collapsed": true
   },
   "outputs": [],
   "source": [
    "nilPrism :: Prism [a] ()\n",
    "nilPrism = Prism { pget = \\xs -> case xs of [] -> Just (); _ -> Nothing, pback = const [] }\n",
    "consPrism :: Prism [a] (a, [a])\n",
    "consPrism = Prism { pget = \\xs -> case xs of [] -> Nothing; (x:xs) -> Just (x, xs), pback = \\(x, xs) -> x:xs }"
   ]
  },
  {
   "cell_type": "code",
   "execution_count": 66,
   "metadata": {
    "collapsed": true
   },
   "outputs": [],
   "source": [
    "headOptional :: Optional [a] a\n",
    "headOptional = prismToOptional consPrism `ocompose` lensToOptional fstLens\n",
    "tailOptional :: Optional [a] [a]\n",
    "tailOptional = prismToOptional consPrism `ocompose` lensToOptional sndLens"
   ]
  },
  {
   "cell_type": "code",
   "execution_count": 67,
   "metadata": {
    "collapsed": false
   },
   "outputs": [
    {
     "data": {
      "text/plain": [
       "Just 1"
      ]
     },
     "metadata": {},
     "output_type": "display_data"
    },
    {
     "data": {
      "text/plain": [
       "Just [2]"
      ]
     },
     "metadata": {},
     "output_type": "display_data"
    }
   ],
   "source": [
    "oget headOptional [1, 2]\n",
    "oget tailOptional [1, 2]"
   ]
  },
  {
   "cell_type": "code",
   "execution_count": 68,
   "metadata": {
    "collapsed": true
   },
   "outputs": [],
   "source": [
    ":set -XNPlusKPatterns"
   ]
  },
  {
   "cell_type": "code",
   "execution_count": 70,
   "metadata": {
    "collapsed": false
   },
   "outputs": [],
   "source": [
    "indexOptional :: Int -> Optional [a] a\n",
    "indexOptional 0 = headOptional\n",
    "indexOptional (n+1) = tailOptional `ocompose` indexOptional n"
   ]
  },
  {
   "cell_type": "code",
   "execution_count": 73,
   "metadata": {
    "collapsed": false
   },
   "outputs": [
    {
     "data": {
      "text/plain": [
       "Nothing"
      ]
     },
     "metadata": {},
     "output_type": "display_data"
    }
   ],
   "source": [
    "oget (indexOptional 2) [1, 2]"
   ]
  },
  {
   "cell_type": "code",
   "execution_count": 76,
   "metadata": {
    "collapsed": false
   },
   "outputs": [
    {
     "data": {
      "text/plain": [
       "[1,2]"
      ]
     },
     "metadata": {},
     "output_type": "display_data"
    }
   ],
   "source": [
    "oset (indexOptional 2) 5 [1, 2]"
   ]
  },
  {
   "cell_type": "code",
   "execution_count": 80,
   "metadata": {
    "collapsed": false
   },
   "outputs": [],
   "source": [
    "atLens :: Eq a => a -> Lens (a -> b) b\n",
    "atLens a = Lens {\n",
    "        lget = \\f -> f a,\n",
    "        lset = \\b f a' -> if a == a' then b else f a'\n",
    "    }"
   ]
  },
  {
   "cell_type": "code",
   "execution_count": 81,
   "metadata": {
    "collapsed": true
   },
   "outputs": [],
   "source": [
    "f :: Int -> String\n",
    "f = const \"\""
   ]
  },
  {
   "cell_type": "code",
   "execution_count": 87,
   "metadata": {
    "collapsed": false
   },
   "outputs": [
    {
     "data": {
      "text/plain": [
       "\"\""
      ]
     },
     "metadata": {},
     "output_type": "display_data"
    }
   ],
   "source": [
    "lget (atLens 2) (lset (atLens 3) \"a\" f)"
   ]
  },
  {
   "cell_type": "code",
   "execution_count": 88,
   "metadata": {
    "collapsed": true
   },
   "outputs": [],
   "source": [
    "data Iso s a = Iso {\n",
    "        iget :: s -> a,\n",
    "        iback :: a -> s\n",
    "    }"
   ]
  },
  {
   "cell_type": "code",
   "execution_count": 89,
   "metadata": {
    "collapsed": true
   },
   "outputs": [],
   "source": [
    "newtype Zipcode = Zipcode String"
   ]
  },
  {
   "cell_type": "code",
   "execution_count": 93,
   "metadata": {
    "collapsed": false
   },
   "outputs": [],
   "source": [
    "prismLawGetAfterBack p a = pget p (pback p a) == Just a\n",
    "prismLawBackAfterGet p s a =\n",
    "    case pget p s of\n",
    "        Just a -> pback p a == s\n",
    "        Nothing -> True"
   ]
  },
  {
   "cell_type": "code",
   "execution_count": 95,
   "metadata": {
    "collapsed": false
   },
   "outputs": [],
   "source": [
    "optionalLawSetAfterSet = undefined\n",
    "optionalLawGetAfterSet p a s = (const a <$> oget p s) == oget p (oset p a s)"
   ]
  },
  {
   "cell_type": "code",
   "execution_count": null,
   "metadata": {
    "collapsed": true
   },
   "outputs": [],
   "source": []
  }
 ],
 "metadata": {
  "kernelspec": {
   "display_name": "Haskell",
   "language": "haskell",
   "name": "haskell"
  },
  "language_info": {
   "codemirror_mode": "ihaskell",
   "file_extension": ".hs",
   "name": "haskell",
   "version": "7.10.3"
  }
 },
 "nbformat": 4,
 "nbformat_minor": 0
}
